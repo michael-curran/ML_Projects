{
 "cells": [
  {
   "cell_type": "markdown",
   "metadata": {
    "colab_type": "text",
    "id": "ZmfcwtqYtjdq"
   },
   "source": [
    "### End-to-end Multil-class Dog Breed Classification\n",
    "\n",
    "This notebook builds an end-to-end multi-class image classifier using TensorFlow 2.x and TensorFlow Hub.\n",
    "\n",
    "## 1. Problem\n",
    "\n",
    "Identifying the breed of a dog given an image of a dog.\n",
    "\n",
    "## 2. Data\n",
    "\n",
    "The data we're using is from Kaggle's dog breed identification competition.\n",
    "\n",
    "https://www.kaggle.com/c/dog-breed-identification/data \n",
    "\n",
    "## 3. Evaluation\n",
    "\n",
    "The evaluation is a file with prediction probabilities for each dog breed of each test image.\n",
    "\n",
    "https://www.kaggle.com/c/dog-breed-identification/overview/evaluation\n",
    "\n",
    "## 4. Features\n",
    "\n",
    "Some information about the data:\n",
    "* We're dealing with images (unstructured data) so it's probably best we use deep learning/transfer learning.\n",
    "* There are 120 breeds of dogs (this means there are 120 different classes).\n",
    "* There are around 10,000+ images in the training set (these images have labels).\n",
    "* There are around 10,000+ images in the test set (these images have no labels, because we'll want to predict them). \n"
   ]
  },
  {
   "cell_type": "code",
   "execution_count": null,
   "metadata": {
    "colab": {
     "base_uri": "https://localhost:8080/",
     "height": 67
    },
    "colab_type": "code",
    "id": "4FJ63LCIxczL",
    "outputId": "77006c9b-bb0b-4b36-bba3-675680faaa8f"
   },
   "outputs": [],
   "source": [
    "# Import necessary tools\n",
    "import tensorflow as tf\n",
    "import tensorflow_hub as hub \n",
    "print('TF version:', tf.__version__)\n",
    "print('TF Hub version:', hub.__version__)\n",
    "\n",
    "# Check for GPU availability\n",
    "print('GPU', 'available' if tf.config.list_physical_devices('GPU') else 'not available')"
   ]
  },
  {
   "cell_type": "markdown",
   "metadata": {
    "colab_type": "text",
    "id": "1bqaEkVQOviP"
   },
   "source": [
    "## Getting our data ready"
   ]
  },
  {
   "cell_type": "code",
   "execution_count": null,
   "metadata": {
    "colab": {
     "base_uri": "https://localhost:8080/",
     "height": 202
    },
    "colab_type": "code",
    "id": "nYIIXV9APIts",
    "outputId": "18c4ecd5-9391-4229-8dd4-dd209cf01b2e"
   },
   "outputs": [],
   "source": [
    "# Checkout the labels of our data\n",
    "import pandas as pd\n",
    "labels_csv = pd.read_csv('/Users/School/Desktop/VSC Projects/AI Projects/labels.csv')\n",
    "print(labels_csv.describe())\n",
    "print(labels_csv.head())"
   ]
  },
  {
   "cell_type": "code",
   "execution_count": null,
   "metadata": {
    "colab": {
     "base_uri": "https://localhost:8080/",
     "height": 195
    },
    "colab_type": "code",
    "id": "MuQuAQt6PkqA",
    "outputId": "d0ba6723-b8e2-4fa7-88a9-1a2afd8a4677"
   },
   "outputs": [],
   "source": [
    "labels_csv.head()"
   ]
  },
  {
   "cell_type": "code",
   "execution_count": null,
   "metadata": {
    "colab": {
     "base_uri": "https://localhost:8080/",
     "height": 770
    },
    "colab_type": "code",
    "id": "3wt8EVfvPsYc",
    "outputId": "b9cf792e-4b54-45bc-db85-dccbe1e51bbf"
   },
   "outputs": [],
   "source": [
    "# How many images are there of each breed?\n",
    "labels_csv['breed'].value_counts().plot.bar(figsize=(20, 10))"
   ]
  },
  {
   "cell_type": "code",
   "execution_count": null,
   "metadata": {
    "colab": {
     "base_uri": "https://localhost:8080/",
     "height": 34
    },
    "colab_type": "code",
    "id": "0Ei7ln2nQGjO",
    "outputId": "a0bd3bfb-a1c1-4a5c-96ec-71b21283342b"
   },
   "outputs": [],
   "source": [
    "# What's the median number of images per class?\n",
    "labels_csv['breed'].value_counts().median()"
   ]
  },
  {
   "cell_type": "markdown",
   "metadata": {
    "colab_type": "text",
    "id": "H66fACKpSRNl"
   },
   "source": [
    "### Getting images and their labels "
   ]
  },
  {
   "cell_type": "code",
   "execution_count": null,
   "metadata": {
    "colab": {
     "base_uri": "https://localhost:8080/",
     "height": 195
    },
    "colab_type": "code",
    "id": "cyA-_wQ6S-l4",
    "outputId": "5d6d8aee-5a1d-44ec-bd6d-bcd169dfdda3"
   },
   "outputs": [],
   "source": [
    "labels_csv.head()"
   ]
  },
  {
   "cell_type": "code",
   "execution_count": null,
   "metadata": {
    "colab": {
     "base_uri": "https://localhost:8080/",
     "height": 185
    },
    "colab_type": "code",
    "id": "zbZqkfkdS4fq",
    "outputId": "2fc8a2e4-23ca-48f4-ab5d-b71e23c629aa"
   },
   "outputs": [],
   "source": [
    "# Create pathnames from image ID's\n",
    "filenames = ['/Users/School/Desktop/VSC Projects/AI Projects/' + fname + '.jpg' for fname in labels_csv['id']]\n",
    "\n",
    "# Check the first 10\n",
    "filenames[:10]"
   ]
  },
  {
   "cell_type": "code",
   "execution_count": null,
   "metadata": {
    "colab": {
     "base_uri": "https://localhost:8080/",
     "height": 230
    },
    "colab_type": "code",
    "id": "lD6axtLETKA5",
    "outputId": "37f9e9c2-97f4-415c-aa5e-00a387762233"
   },
   "outputs": [],
   "source": [
    "# Check whether number of filenames matches number of actual image files\n",
    "import os\n",
    "if len(os.listdir('/Users/School/Desktop/VSC Projects/AI Projects/')) == len(filenames):\n",
    "  print('Filenames match actual amount of files. Proceed.')\n",
    "else:\n",
    "  print('Filenames do no match actual amount of files, check the target directory.')"
   ]
  },
  {
   "cell_type": "code",
   "execution_count": null,
   "metadata": {
    "colab": {
     "base_uri": "https://localhost:8080/",
     "height": 50
    },
    "colab_type": "code",
    "id": "xDQNXDRWVB21",
    "outputId": "7f56280e-7012-49f7-8a29-d759f2ac9769"
   },
   "outputs": [],
   "source": [
    "import numpy as np\n",
    "labels = labels_csv['breed'].to_numpy() \n",
    "labels"
   ]
  },
  {
   "cell_type": "code",
   "execution_count": null,
   "metadata": {
    "colab": {
     "base_uri": "https://localhost:8080/",
     "height": 34
    },
    "colab_type": "code",
    "id": "A25G-8s4WBgu",
    "outputId": "2add4cba-ee3f-4c7b-af27-b4ffda5529ae"
   },
   "outputs": [],
   "source": [
    "len(labels)"
   ]
  },
  {
   "cell_type": "code",
   "execution_count": null,
   "metadata": {
    "colab": {
     "base_uri": "https://localhost:8080/",
     "height": 34
    },
    "colab_type": "code",
    "id": "Haflpp4WWK-V",
    "outputId": "2a68a94a-b0b7-400e-9cda-1ceca9d1287c"
   },
   "outputs": [],
   "source": [
    "# See if number of labels matches the number of filenames\n",
    "if len(labels) == len(filenames):\n",
    "  print('Number of labels matches number of filenames.')\n",
    "else:\n",
    "  print('Number of labels does not match number of filenames, check data directories.')"
   ]
  },
  {
   "cell_type": "code",
   "execution_count": null,
   "metadata": {
    "colab": {
     "base_uri": "https://localhost:8080/",
     "height": 34
    },
    "colab_type": "code",
    "id": "YoGtxvE4Wu5y",
    "outputId": "76b61f90-ee53-4363-ed5d-e71ff5f039ae"
   },
   "outputs": [],
   "source": [
    "# Find the unique label values\n",
    "unique_breeds = np.unique(labels)\n",
    "len(unique_breeds)"
   ]
  },
  {
   "cell_type": "code",
   "execution_count": null,
   "metadata": {
    "colab": {
     "base_uri": "https://localhost:8080/",
     "height": 622
    },
    "colab_type": "code",
    "id": "EhhQvfBzXd_Q",
    "outputId": "16256395-abf9-43e5-8f1c-656aa675f271"
   },
   "outputs": [],
   "source": [
    "unique_breeds"
   ]
  },
  {
   "cell_type": "code",
   "execution_count": null,
   "metadata": {
    "colab": {
     "base_uri": "https://localhost:8080/",
     "height": 269
    },
    "colab_type": "code",
    "id": "28UOnzTqXFaS",
    "outputId": "43bd9b59-7187-41df-efd2-d7fbcec6e46d"
   },
   "outputs": [],
   "source": [
    "# Turn a single label into an array of booleans\n",
    "print(labels[0])\n",
    "labels[0] == unique_breeds"
   ]
  },
  {
   "cell_type": "code",
   "execution_count": null,
   "metadata": {
    "colab": {
     "base_uri": "https://localhost:8080/",
     "height": 34
    },
    "colab_type": "code",
    "id": "md69CMNoX76P",
    "outputId": "39f256cf-1f9b-4017-cedb-5006af1d5635"
   },
   "outputs": [],
   "source": [
    "len(labels)"
   ]
  },
  {
   "cell_type": "code",
   "execution_count": null,
   "metadata": {
    "colab": {
     "base_uri": "https://localhost:8080/",
     "height": 487
    },
    "colab_type": "code",
    "id": "RcJ_qfj4XcYq",
    "outputId": "18fd5084-9514-4797-b771-a62f4fa13839"
   },
   "outputs": [],
   "source": [
    "# Turn every label into a boolean array\n",
    "boolean_labels = [label == unique_breeds for label in labels]\n",
    "boolean_labels[:2]"
   ]
  },
  {
   "cell_type": "code",
   "execution_count": null,
   "metadata": {
    "colab": {
     "base_uri": "https://localhost:8080/",
     "height": 34
    },
    "colab_type": "code",
    "id": "QBThX0f_Xyzu",
    "outputId": "73f840b9-adcb-423b-a113-928e09ac88ae"
   },
   "outputs": [],
   "source": [
    "len(boolean_labels)"
   ]
  },
  {
   "cell_type": "code",
   "execution_count": null,
   "metadata": {
    "colab": {
     "base_uri": "https://localhost:8080/",
     "height": 134
    },
    "colab_type": "code",
    "id": "pZMoM3sNX1tk",
    "outputId": "a80bfed5-7e40-4d37-c529-e68483c0960c"
   },
   "outputs": [],
   "source": [
    "# Example: Turning boolean array into integers\n",
    "print(labels[0]) # original label\n",
    "print(np.where(unique_breeds == labels[0])) # index where label occurs\n",
    "print(boolean_labels[0].argmax()) # index where label occurs in boolean array\n",
    "print(boolean_labels[0].astype(int)) # there will be a 1 where the sample label occurs"
   ]
  },
  {
   "cell_type": "code",
   "execution_count": null,
   "metadata": {
    "colab": {
     "base_uri": "https://localhost:8080/",
     "height": 101
    },
    "colab_type": "code",
    "id": "_yjwkfclYZQQ",
    "outputId": "0695313f-b723-4289-e5c9-5997fbe953aa"
   },
   "outputs": [],
   "source": [
    "print(labels[2])\n",
    "print(boolean_labels[2].astype(int))"
   ]
  },
  {
   "cell_type": "code",
   "execution_count": null,
   "metadata": {
    "colab": {
     "base_uri": "https://localhost:8080/",
     "height": 487
    },
    "colab_type": "code",
    "id": "xcHStSCyaJUp",
    "outputId": "6f99dc04-c4bf-4ef9-99d6-586b15e46cfd"
   },
   "outputs": [],
   "source": [
    "boolean_labels[:2]"
   ]
  },
  {
   "cell_type": "code",
   "execution_count": null,
   "metadata": {
    "colab": {
     "base_uri": "https://localhost:8080/",
     "height": 185
    },
    "colab_type": "code",
    "id": "_LA02UA4YnLL",
    "outputId": "2b90d784-f13b-4984-e096-66925e8bd5b1"
   },
   "outputs": [],
   "source": [
    "filenames[:10]"
   ]
  },
  {
   "cell_type": "markdown",
   "metadata": {
    "colab_type": "text",
    "id": "tpkBmK2-aRhM"
   },
   "source": [
    "### Creating our own validation set\n",
    "Since the dataset from Kaggle doesn't come with a validation set, going to create our own."
   ]
  },
  {
   "cell_type": "code",
   "execution_count": null,
   "metadata": {
    "colab": {},
    "colab_type": "code",
    "id": "hjfQVdGsYsC3"
   },
   "outputs": [],
   "source": [
    "# Setup X & y variables\n",
    "X = filenames\n",
    "y = boolean_labels"
   ]
  },
  {
   "cell_type": "code",
   "execution_count": null,
   "metadata": {
    "colab": {
     "base_uri": "https://localhost:8080/",
     "height": 34
    },
    "colab_type": "code",
    "id": "rLo3drZcaz33",
    "outputId": "fb202322-75d2-4c89-e77f-549a752452e1"
   },
   "outputs": [],
   "source": [
    "len(filenames)"
   ]
  },
  {
   "cell_type": "markdown",
   "metadata": {
    "colab_type": "text",
    "id": "bpZXVu8ObDm8"
   },
   "source": [
    "We're going to start off experimenting with ~1000 images and increase as needed."
   ]
  },
  {
   "cell_type": "code",
   "execution_count": null,
   "metadata": {
    "colab": {},
    "colab_type": "code",
    "id": "8bGZsb4qa2sd"
   },
   "outputs": [],
   "source": [
    "# Set number of images to use for experimenting\n",
    "NUM_IMAGES = 1000 #@param {type:'slider', min:1000, max:10000, step:1000}"
   ]
  },
  {
   "cell_type": "code",
   "execution_count": null,
   "metadata": {
    "colab": {
     "base_uri": "https://localhost:8080/",
     "height": 34
    },
    "colab_type": "code",
    "id": "azaeoHI6bmap",
    "outputId": "6a697e41-0510-4d24-8e5d-8b5c288b98d9"
   },
   "outputs": [],
   "source": [
    "# Let's split our data into train and validation sets\n",
    "from sklearn.model_selection import train_test_split\n",
    "\n",
    "# Split them into training and validation of total size NUM_IMAGES\n",
    "X_train, X_val, y_train, y_val = train_test_split(X[:NUM_IMAGES],\n",
    "                                                  y[:NUM_IMAGES],\n",
    "                                                  test_size=0.2,\n",
    "                                                  random_state=42)\n",
    "\n",
    "len(X_train), len(y_train), len(X_val), len(y_val)"
   ]
  },
  {
   "cell_type": "code",
   "execution_count": null,
   "metadata": {
    "colab": {
     "base_uri": "https://localhost:8080/",
     "height": 571
    },
    "colab_type": "code",
    "id": "NzS1eG6scI5X",
    "outputId": "5b2655e6-2ae1-4a29-de57-ad28ff82f11a"
   },
   "outputs": [],
   "source": [
    "X_train[:5], y_train[:2]"
   ]
  },
  {
   "cell_type": "markdown",
   "metadata": {
    "colab_type": "text",
    "id": "qogsX969ozl2"
   },
   "source": [
    "## Preprocessing Images (turning images into Tensors)\n",
    "\n",
    "1. Take an image filepath as input\n",
    "2. Use TensorFlow to read the file and save it to a variable, `image`\n",
    "3. Turn our `image` (a jpg) into Tensors\n",
    "4. Normalize our image (convert color channel values from from 0-255 to 0-1).\n",
    "5. Resize the `image` to be a shape of (224, 224)\n",
    "6. Return the modified `image`"
   ]
  },
  {
   "cell_type": "code",
   "execution_count": null,
   "metadata": {
    "colab": {
     "base_uri": "https://localhost:8080/",
     "height": 34
    },
    "colab_type": "code",
    "id": "MOIKlgBTohpY",
    "outputId": "042cac8f-18b2-4c5f-e21c-7febf48e6991"
   },
   "outputs": [],
   "source": [
    "# Convert image to NumPy array\n",
    "from matplotlib.pyplot import imread\n",
    "image = imread(filenames[42])\n",
    "image.shape"
   ]
  },
  {
   "cell_type": "code",
   "execution_count": null,
   "metadata": {
    "colab": {
     "base_uri": "https://localhost:8080/",
     "height": 34
    },
    "colab_type": "code",
    "id": "JWu3tuLeqZjN",
    "outputId": "85d25952-9853-40c6-f8d6-5ddcc25827cf"
   },
   "outputs": [],
   "source": [
    "image.max(), image.min()"
   ]
  },
  {
   "cell_type": "code",
   "execution_count": null,
   "metadata": {
    "colab": {
     "base_uri": "https://localhost:8080/",
     "height": 269
    },
    "colab_type": "code",
    "id": "VCPjcyhhq4YC",
    "outputId": "51e071d2-2b5c-4c52-e7da-0655357d57da"
   },
   "outputs": [],
   "source": [
    "image[:2]"
   ]
  },
  {
   "cell_type": "code",
   "execution_count": null,
   "metadata": {
    "colab": {
     "base_uri": "https://localhost:8080/",
     "height": 286
    },
    "colab_type": "code",
    "id": "a_KqvefhqnjC",
    "outputId": "a4d48d1c-ce35-48f3-95e6-c3f32a0dad1a"
   },
   "outputs": [],
   "source": [
    "# turn image into a tensor\n",
    "tf.constant(image)[:2]"
   ]
  },
  {
   "cell_type": "code",
   "execution_count": null,
   "metadata": {
    "colab": {},
    "colab_type": "code",
    "id": "8xbi-Vssquup"
   },
   "outputs": [],
   "source": [
    "# Define image size\n",
    "IMG_SIZE = 224\n",
    "\n",
    "# Create a function for preprocessing images\n",
    "def process_image(image_path, img_size=IMG_SIZE):\n",
    "  '''\n",
    "  Takes an image file path and turns the image into a Tensor.\n",
    "  '''\n",
    "  # Read in an image file\n",
    "  image = tf.io.read_file(image_path)\n",
    "  # Turn the jpeg image into numerical Tensor with 3 colour channels (Red, Green, Blue)\n",
    "  image = tf.image.decode_jpeg(image, channels=3)\n",
    "  # Convert the colour channel values from 0-255 to 0-1 values\n",
    "  image = tf.image.convert_image_dtype(image, tf.float32)\n",
    "  # Resize the image to our desired value (224, 224)\n",
    "  image = tf.image.resize(image, size=[IMG_SIZE, IMG_SIZE])\n",
    "\n",
    "  return image"
   ]
  },
  {
   "cell_type": "markdown",
   "metadata": {
    "colab_type": "text",
    "id": "RteBtJhLtpLB"
   },
   "source": [
    "## Turning our data into batches"
   ]
  },
  {
   "cell_type": "code",
   "execution_count": null,
   "metadata": {
    "colab": {},
    "colab_type": "code",
    "id": "I8A_rJmiwLVa"
   },
   "outputs": [],
   "source": [
    "# Create a simple function to return a tuple (image, label)\n",
    "def get_image_label(image_path, label):\n",
    "  '''\n",
    "  Takes an image file path name and the assosciated label,\n",
    "  processes the image and reutrns a typle of (image, label).\n",
    "  '''\n",
    "  image = process_image(image_path)\n",
    "  return image, label"
   ]
  },
  {
   "cell_type": "code",
   "execution_count": null,
   "metadata": {
    "colab": {
     "base_uri": "https://localhost:8080/",
     "height": 1000
    },
    "colab_type": "code",
    "id": "Yw55owGWxSTO",
    "outputId": "c8a03b2a-cfe4-4fd4-ed47-e10e0f8c148a"
   },
   "outputs": [],
   "source": [
    "# Demo of the above\n",
    "(process_image(X[42]), tf.constant(y[42]))"
   ]
  },
  {
   "cell_type": "code",
   "execution_count": null,
   "metadata": {
    "colab": {},
    "colab_type": "code",
    "id": "vb1TCPSfxf0T"
   },
   "outputs": [],
   "source": [
    "# Define the batch size\n",
    "BATCH_SIZE = 32\n",
    "\n",
    "# Create a function to turn data into batches\n",
    "def create_data_batches(X, y=None, batch_size=BATCH_SIZE, valid_data=False, test_data=False):\n",
    "  '''\n",
    "  Creates batches of data out of image (X) and label (y) pairs.\n",
    "  Shuffles the data if it's training data but doesn't shuffle if it's validation data.\n",
    "  Also accepts test data as input (no labels).\n",
    "  '''\n",
    "  # If the data is a test dataset, we probably don't have have labels\n",
    "  if test_data:\n",
    "    print('Creating test data batches...')\n",
    "    data = tf.data.Dataset.from_tensor_slices((tf.constant(X))) # only filepaths (no labels)\n",
    "    data_batch = data.map(process_image).batch(BATCH_SIZE)\n",
    "    return data_batch\n",
    "  \n",
    "  # If the data is a valid dataset, we don't need to shuffle it\n",
    "  elif valid_data:\n",
    "    print('Creating validation data batches...')\n",
    "    data = tf.data.Dataset.from_tensor_slices((tf.constant(X), # filepaths\n",
    "                                               tf.constant(y))) # labels\n",
    "    data_batch = data.map(get_image_label).batch(BATCH_SIZE)\n",
    "    return data_batch\n",
    "\n",
    "  else:\n",
    "    print('Creating training data batches...')\n",
    "    # Turn filepaths and labels into Tensors\n",
    "    data = tf.data.Dataset.from_tensor_slices((tf.constant(X),\n",
    "                                               tf.constant(y)))\n",
    "    # Shuffling pathnames and labels before mapping image processor function is faster than shuffling images\n",
    "    data = data.shuffle(buffer_size=len(X))\n",
    "\n",
    "    # Create (image, label) tuples (this also turns the iamge path into a preprocessed image)\n",
    "    data = data.map(get_image_label)\n",
    "\n",
    "    # Turn the training data into batches\n",
    "    data_batch = data.batch(BATCH_SIZE)\n",
    "  return data_batch"
   ]
  },
  {
   "cell_type": "code",
   "execution_count": null,
   "metadata": {
    "colab": {
     "base_uri": "https://localhost:8080/",
     "height": 50
    },
    "colab_type": "code",
    "id": "mZJeai-O1eyA",
    "outputId": "d9d0f99c-6cd2-4124-98d3-7218bcbe1e08"
   },
   "outputs": [],
   "source": [
    "# Create training and validation data batches\n",
    "train_data = create_data_batches(X_train, y_train)\n",
    "val_data = create_data_batches(X_val, y_val, valid_data=True)"
   ]
  },
  {
   "cell_type": "code",
   "execution_count": null,
   "metadata": {
    "colab": {
     "base_uri": "https://localhost:8080/",
     "height": 84
    },
    "colab_type": "code",
    "id": "6_jihgnb20ny",
    "outputId": "c294d479-2f56-460c-d334-427439c62cc4"
   },
   "outputs": [],
   "source": [
    "# Check out the different attributes of our data batches\n",
    "train_data.element_spec, val_data.element_spec"
   ]
  },
  {
   "cell_type": "markdown",
   "metadata": {
    "colab_type": "text",
    "id": "TnHOmECI3KWN"
   },
   "source": [
    "## Visualizing Data Batches"
   ]
  },
  {
   "cell_type": "code",
   "execution_count": null,
   "metadata": {
    "colab": {},
    "colab_type": "code",
    "id": "Qr3IyCkYIXZu"
   },
   "outputs": [],
   "source": [
    "import matplotlib.pyplot as plt\n",
    "\n",
    "# Create a function for viewing images in a data batch\n",
    "def show_25_images(images, labels):\n",
    "  '''\n",
    "  Displays a plot of 25 images and their labels from a data batch.\n",
    "  '''\n",
    "  # Setup the figure\n",
    "  plt.figure(figsize=(10, 10))\n",
    "  # Loop through 25 (for displaying 25 images)\n",
    "  for i in range(25):\n",
    "    # Create subplots (5 rows, 5 columns)\n",
    "    ax = plt.subplot(5, 5, i+1)\n",
    "    # Display an image \n",
    "    plt.imshow(images[i])\n",
    "    # Add the image label as the title\n",
    "    plt.title(unique_breeds[labels[i].argmax()])\n",
    "    # Turn the grid lines off\n",
    "    plt.axis('off')"
   ]
  },
  {
   "cell_type": "code",
   "execution_count": null,
   "metadata": {
    "colab": {
     "base_uri": "https://localhost:8080/",
     "height": 34
    },
    "colab_type": "code",
    "id": "wj1yrUZeJotX",
    "outputId": "2779a0af-0484-4dc0-bd48-ba874d0d7c80"
   },
   "outputs": [],
   "source": [
    "train_data"
   ]
  },
  {
   "cell_type": "code",
   "execution_count": null,
   "metadata": {
    "colab": {},
    "colab_type": "code",
    "id": "TrT2tFjsKZiH"
   },
   "outputs": [],
   "source": [
    "# Now let's visualize the data in a training batch\n",
    "train_images, train_labels = next(train_data.as_numpy_iterator())\n",
    "show_25_images(train_images, train_labels)"
   ]
  },
  {
   "cell_type": "code",
   "execution_count": null,
   "metadata": {
    "colab": {},
    "colab_type": "code",
    "id": "UHHVznPOKZZc"
   },
   "outputs": [],
   "source": [
    "# Now let's visualize our validation set\n",
    "val_images, val_labels = next(val_data.as_numpy_iterator())\n",
    "show_25_images(val_images, val_labels)"
   ]
  },
  {
   "cell_type": "markdown",
   "metadata": {
    "colab_type": "text",
    "id": "vCf6n4WRJMwY"
   },
   "source": [
    "## Building a model\n",
    "\n",
    "Define:\n",
    "* The input shape (our images shape, in the form of Tensors) to our model.\n",
    "* The output shape (image labels, in the form of Tensors) of our model.\n",
    "* The URL of the model we want to use from TensorFlow Hub - https://tfhub.dev/google/imagenet/mobilenet_v2_130_224/classification/4"
   ]
  },
  {
   "cell_type": "code",
   "execution_count": null,
   "metadata": {
    "colab": {
     "base_uri": "https://localhost:8080/",
     "height": 34
    },
    "colab_type": "code",
    "id": "cYEG7SJuOxn_",
    "outputId": "777a93ae-af51-4f84-fd05-3d935319519b"
   },
   "outputs": [],
   "source": [
    "IMG_SIZE"
   ]
  },
  {
   "cell_type": "code",
   "execution_count": null,
   "metadata": {
    "colab": {},
    "colab_type": "code",
    "id": "TZxIO8efOh9m"
   },
   "outputs": [],
   "source": [
    "# Setup input shape to the model\n",
    "INPUT_SHAPE = [None, IMG_SIZE, IMG_SIZE, 3] # batch, height, width, colour channels\n",
    "\n",
    "# Setup output shape of our model\n",
    "OUTPUT_SHAPE = len(unique_breeds)\n",
    "\n",
    "# Setup model URL from TensorFlow Hub\n",
    "MODEL_URL = 'https://tfhub.dev/google/imagenet/mobilenet_v2_130_224/classification/4'"
   ]
  },
  {
   "cell_type": "code",
   "execution_count": null,
   "metadata": {
    "colab": {
     "base_uri": "https://localhost:8080/",
     "height": 34
    },
    "colab_type": "code",
    "id": "lJiTorwmcmvj",
    "outputId": "593e8d4c-d419-46c8-f601-361cee8fbfe9"
   },
   "outputs": [],
   "source": [
    "INPUT_SHAPE"
   ]
  },
  {
   "cell_type": "code",
   "execution_count": null,
   "metadata": {
    "colab": {},
    "colab_type": "code",
    "id": "IQF3X0b7W8yf"
   },
   "outputs": [],
   "source": [
    "# Create a function which builds a Keras model\n",
    "def create_model(input_shape=INPUT_SHAPE, output_shape=OUTPUT_SHAPE, model_url=MODEL_URL):\n",
    "  print('Building model with:', MODEL_URL)\n",
    "\n",
    "  # Setup the model layers\n",
    "  model = tf.keras.Sequential([\n",
    "    hub.KerasLayer(MODEL_URL), # Layer 1 (input layer)\n",
    "    tf.keras.layers.Dense(units=OUTPUT_SHAPE,\n",
    "                          activation='softmax') # Layer 2 (output layer)\n",
    "  ])\n",
    "\n",
    "  # Compile the model\n",
    "  model.compile(\n",
    "      loss=tf.keras.losses.CategoricalCrossentropy(),\n",
    "      optimizer=tf.keras.optimizers.Adam(),\n",
    "      metrics=['accuracy']\n",
    "  )\n",
    "\n",
    "  # Build the model\n",
    "  model.build(INPUT_SHAPE)\n",
    "\n",
    "  return model"
   ]
  },
  {
   "cell_type": "code",
   "execution_count": null,
   "metadata": {
    "colab": {
     "base_uri": "https://localhost:8080/",
     "height": 235
    },
    "colab_type": "code",
    "id": "MOEsBLvjYGem",
    "outputId": "43dd1f5f-8477-4104-b5f7-d33720dcef83"
   },
   "outputs": [],
   "source": [
    "model = create_model()\n",
    "model.summary()"
   ]
  },
  {
   "cell_type": "markdown",
   "metadata": {
    "colab_type": "text",
    "id": "7B4eFM7cfgLj"
   },
   "source": [
    "## Creating callbacks\n",
    "\n",
    "\n",
    "\n",
    "### TensorBoard Callback\n",
    "\n",
    "To setup a TensorBoard callback, we need to do 3 things:\n",
    "1. Load the TensorBoard notebook extension \n",
    "2. Create a TensorBoard callback which is able to save logs to a directory and pass it to our model's `fit()` function. \n",
    "3. Visualize our models training logs with the `%tensorboard` magic function (after model training).\n",
    "\n",
    "https://www.tensorflow.org/api_docs/python/tf/keras/callbacks/TensorBoard"
   ]
  },
  {
   "cell_type": "code",
   "execution_count": null,
   "metadata": {
    "colab": {},
    "colab_type": "code",
    "id": "RZ1WlmIWEFD8"
   },
   "outputs": [],
   "source": [
    "# Load TensorBoard notebook extension\n",
    "%load_ext tensorboard"
   ]
  },
  {
   "cell_type": "code",
   "execution_count": null,
   "metadata": {
    "colab": {},
    "colab_type": "code",
    "id": "3yn9QkytEzs1"
   },
   "outputs": [],
   "source": [
    "import datetime\n",
    "\n",
    "# Create a function to build a TensorBoard callback\n",
    "def create_tensorboard_callback():\n",
    "  # Create a log directory for storing TensorBoard logs\n",
    "  logdir = os.path.join('drive/My Drive/Dog Vision/logs',\n",
    "                        # Make it so the logs get tracked whenever we run an experiment\n",
    "                        datetime.datetime.now().strftime('%Y%m%d-%H%M%S'))\n",
    "  return tf.keras.callbacks.TensorBoard(logdir)"
   ]
  },
  {
   "cell_type": "code",
   "execution_count": null,
   "metadata": {
    "colab": {},
    "colab_type": "code",
    "id": "M-F0EF9WHhck"
   },
   "outputs": [],
   "source": [
    "# Create early stopping callback\n",
    "early_stopping = tf.keras.callbacks.EarlyStopping(monitor='val_accuracy',\n",
    "                                                  patience=3)"
   ]
  },
  {
   "cell_type": "markdown",
   "metadata": {
    "colab_type": "text",
    "id": "3TnnZQyYJamm"
   },
   "source": [
    "## Training a model (on subset of data)\n",
    "\n"
   ]
  },
  {
   "cell_type": "code",
   "execution_count": null,
   "metadata": {
    "colab": {},
    "colab_type": "code",
    "id": "FGInECjYJ0DI"
   },
   "outputs": [],
   "source": [
    "NUM_EPOCHS = 100 #@param {type:'slider', min:10, max:100, step:10}"
   ]
  },
  {
   "cell_type": "code",
   "execution_count": null,
   "metadata": {
    "colab": {},
    "colab_type": "code",
    "id": "YRVaawT4LDAM"
   },
   "outputs": [],
   "source": [
    "# Build a function to train and return a trained model\n",
    "def train_model():\n",
    "  '''\n",
    "  Trains a given model and returns the trained version.\n",
    "  '''\n",
    "  # Create a model\n",
    "  model = create_model()\n",
    "\n",
    "  # Create new TensorBoard session everytime we train a model\n",
    "  tensorboard = create_tensorboard_callback()\n",
    "\n",
    "  # Fit the model to the data passing it the callbacks we created\n",
    "  model.fit(x=train_data,\n",
    "            epochs=NUM_EPOCHS,\n",
    "            validation_data=val_data,\n",
    "            validation_freq=1,\n",
    "            callbacks=[tensorboard, early_stopping])\n",
    "  # Return the fitted model\n",
    "  return model"
   ]
  },
  {
   "cell_type": "code",
   "execution_count": null,
   "metadata": {
    "colab": {
     "base_uri": "https://localhost:8080/",
     "height": 339
    },
    "colab_type": "code",
    "id": "9SrN2dFCLaup",
    "outputId": "6a7726a4-d57a-43da-cb9b-e0d257e12bf7"
   },
   "outputs": [],
   "source": [
    "# Fit the model to the data\n",
    "model = train_model()"
   ]
  },
  {
   "cell_type": "markdown",
   "metadata": {
    "colab_type": "text",
    "id": "YHQnWihg7a4o"
   },
   "source": [
    "## Making and evaluating predictions using a trained model "
   ]
  },
  {
   "cell_type": "code",
   "execution_count": null,
   "metadata": {
    "colab": {
     "base_uri": "https://localhost:8080/",
     "height": 34
    },
    "colab_type": "code",
    "id": "6DRHTAan9WQl",
    "outputId": "052903a4-5a2d-4229-be4f-b55aca153d13"
   },
   "outputs": [],
   "source": [
    "val_data"
   ]
  },
  {
   "cell_type": "code",
   "execution_count": null,
   "metadata": {
    "colab": {
     "base_uri": "https://localhost:8080/",
     "height": 252
    },
    "colab_type": "code",
    "id": "q35KBZku9FJN",
    "outputId": "be0c76f7-0794-4f84-8ce6-e5b47a205f2f"
   },
   "outputs": [],
   "source": [
    "# Make predictions on the validation data (not used to train on)\n",
    "predictions = model.predict(val_data, verbose=1)\n",
    "predictions"
   ]
  },
  {
   "cell_type": "code",
   "execution_count": null,
   "metadata": {
    "colab": {
     "base_uri": "https://localhost:8080/",
     "height": 538
    },
    "colab_type": "code",
    "id": "76tYECIb92FC",
    "outputId": "9c9cd96a-1e09-4000-a1de-299797e71827"
   },
   "outputs": [],
   "source": [
    "predictions[0]"
   ]
  },
  {
   "cell_type": "code",
   "execution_count": null,
   "metadata": {
    "colab": {
     "base_uri": "https://localhost:8080/",
     "height": 588
    },
    "colab_type": "code",
    "id": "9RYQlF3O9yuq",
    "outputId": "e1c8bac6-ae6a-45f1-a35a-dac6d9d04f7e"
   },
   "outputs": [],
   "source": [
    "# First prediction\n",
    "index = 42\n",
    "print(predictions[index])\n",
    "print(f'Max value (probability of prediction): {np.max(predictions[index])}')\n",
    "print(f'Sum: {np.sum(predictions[index])}')\n",
    "print(f'Max index: {np.argmax(predictions[index])}')\n",
    "print(f'Predicted label: {unique_breeds[np.argmax(predictions[index])]}')"
   ]
  },
  {
   "cell_type": "code",
   "execution_count": null,
   "metadata": {
    "colab": {
     "base_uri": "https://localhost:8080/",
     "height": 34
    },
    "colab_type": "code",
    "id": "HL51jL7o_mLf",
    "outputId": "317d4654-3fcc-4ff2-8421-87bd9e1d50f5"
   },
   "outputs": [],
   "source": [
    "unique_breeds[113]"
   ]
  },
  {
   "cell_type": "code",
   "execution_count": null,
   "metadata": {
    "colab": {
     "base_uri": "https://localhost:8080/",
     "height": 213
    },
    "colab_type": "code",
    "id": "S282SLGFBsBm",
    "outputId": "a61f9b50-2350-430b-d7d0-3bcaf7095592"
   },
   "outputs": [],
   "source": [
    "# Turn prediction probabilities into their respective label (easier to understand)\n",
    "def get_pred_label(prediction_probabilities):\n",
    "  '''\n",
    "  Turns an array of prediction probabilities into a label.\n",
    "  '''\n",
    "  return unique_breeds[np.argmax(prediction_probabilities)]\n",
    "\n",
    "# Get a predicted label based on an array of prediction probabilities\n",
    "pred_label = get_pred_label(predictions[81])\n",
    "pred_label"
   ]
  },
  {
   "cell_type": "code",
   "execution_count": null,
   "metadata": {
    "colab": {
     "base_uri": "https://localhost:8080/",
     "height": 34
    },
    "colab_type": "code",
    "id": "mzfq1SMCCN6V",
    "outputId": "9c4dfea7-0472-4f37-8a10-e7a1c036440a"
   },
   "outputs": [],
   "source": [
    "val_data"
   ]
  },
  {
   "cell_type": "code",
   "execution_count": null,
   "metadata": {
    "colab": {
     "base_uri": "https://localhost:8080/",
     "height": 840
    },
    "colab_type": "code",
    "id": "Y7R-eYKGCbdU",
    "outputId": "b843cd81-5aa2-4808-a46a-90e5fa1a0f7b"
   },
   "outputs": [],
   "source": [
    "# Create a function to unbatch a batch dataset\n",
    "def unbatchify(data):\n",
    "  '''\n",
    "  Takes a batched dataset of (image, label) Tensors and reutrns separate arrays\n",
    "  of images and labels.\n",
    "  '''\n",
    "  images = []\n",
    "  labels = []\n",
    "  # Loop through unbatched data\n",
    "  for image, label in data.unbatch().as_numpy_iterator():\n",
    "    images.append(image)\n",
    "    labels.append(unique_breeds[np.argmax(label)])\n",
    "  return images, labels\n",
    "\n",
    "# Unbatchify the validation data\n",
    "val_images, val_labels = unbatchify(val_data)\n",
    "val_images[0], val_labels[0]"
   ]
  },
  {
   "cell_type": "code",
   "execution_count": null,
   "metadata": {
    "colab": {},
    "colab_type": "code",
    "id": "xkZlTw9-F9MR"
   },
   "outputs": [],
   "source": [
    "def plot_pred(prediction_probabilities, labels, images, n=1):\n",
    "  '''\n",
    "  View the prediction, ground truth and image for sample n\n",
    "  '''\n",
    "  pred_prob, true_label, image = prediction_probabilities[n], labels[n], images[n]\n",
    "\n",
    "  # Get the pred label\n",
    "  pred_label = get_pred_label(pred_prob)\n",
    "\n",
    "  # Plot image & remove ticks\n",
    "  plt.imshow(image)\n",
    "  plt.xticks([])\n",
    "  plt.yticks([])\n",
    "\n",
    "  # Change the colour of the title depending on if the prediction is right or wrong\n",
    "  if pred_label == true_label:\n",
    "    color = 'green'\n",
    "  else:\n",
    "    color = 'red'\n",
    "  \n",
    "  # Change plot title to be predicted, probability of prediction and truth label\n",
    "  plt.title('{} {:2.0f}% {}'.format(pred_label,\n",
    "                                    np.max(pred_prob)*100,\n",
    "                                    true_label),\n",
    "                                    color=color)"
   ]
  },
  {
   "cell_type": "code",
   "execution_count": null,
   "metadata": {
    "colab": {
     "base_uri": "https://localhost:8080/",
     "height": 268
    },
    "colab_type": "code",
    "id": "eb40SgzJGl0S",
    "outputId": "3b5cd110-8e02-41f9-d98e-519e8276747d"
   },
   "outputs": [],
   "source": [
    "plot_pred(prediction_probabilities=predictions,\n",
    "          labels=val_labels,\n",
    "          images=val_images,\n",
    "          n=77)"
   ]
  },
  {
   "cell_type": "code",
   "execution_count": null,
   "metadata": {
    "colab": {},
    "colab_type": "code",
    "id": "_6ta0b-jLKwD"
   },
   "outputs": [],
   "source": [
    "def plot_pred_conf(prediction_probabilities, labels, n=1):\n",
    "  '''\n",
    "  Plus the top 10 highest prediction confidences along with the truth label for sample n.\n",
    "  '''\n",
    "  pred_prob, true_label = prediction_probabilities[n], labels[n]\n",
    "\n",
    "  # Get the predicted label\n",
    "  pred_label = get_pred_label(pred_prob)\n",
    "\n",
    "  # Find the top 10 prediction confidence indexes\n",
    "  top_10_pred_indexes = pred_prob.argsort()[-10:][::-1]\n",
    "  # Find the top 10 prediction confidence values\n",
    "  top_10_pred_values = pred_prob[top_10_pred_indexes]\n",
    "  # Find the top 10 prediction labels\n",
    "  top_10_pred_labels = unique_breeds[top_10_pred_indexes]\n",
    "\n",
    "  # Setup plot\n",
    "  top_plot = plt.bar(np.arange(len(top_10_pred_labels)),\n",
    "                     top_10_pred_values,\n",
    "                     color='grey')\n",
    "  plt.xticks(np.arange(len(top_10_pred_labels)),\n",
    "             labels=top_10_pred_labels,\n",
    "             rotation='vertical')\n",
    "  \n",
    "  # Change color of true label\n",
    "  if np.isin(true_label, top_10_pred_labels):\n",
    "    top_plot[np.argmax(top_10_pred_labels == true_label)].set_color('green')\n",
    "  else:\n",
    "    pass"
   ]
  },
  {
   "cell_type": "code",
   "execution_count": null,
   "metadata": {
    "colab": {
     "base_uri": "https://localhost:8080/",
     "height": 372
    },
    "colab_type": "code",
    "id": "e9WFa3x6OFAn",
    "outputId": "bd0009e3-cebf-4836-eaa7-9fadf552a666"
   },
   "outputs": [],
   "source": [
    "plot_pred_conf(prediction_probabilities=predictions,\n",
    "               labels=val_labels,\n",
    "               n=9)"
   ]
  },
  {
   "cell_type": "code",
   "execution_count": null,
   "metadata": {
    "colab": {
     "base_uri": "https://localhost:8080/",
     "height": 1000
    },
    "colab_type": "code",
    "id": "DWuA1TYEMdVD",
    "outputId": "dceb2b05-b8b5-4373-8695-f414c6d70a6c"
   },
   "outputs": [],
   "source": [
    "# Let's check out a few predictions and their different values\n",
    "i_multiplier = 20\n",
    "num_rows = 3\n",
    "num_cols = 2\n",
    "num_images = num_rows*num_cols\n",
    "plt.figure(figsize=(10*num_cols, 5*num_rows))\n",
    "for i in range(num_images):\n",
    "  plt.subplot(num_rows, 2*num_cols, 2*i+1)\n",
    "  plot_pred(prediction_probabilities=predictions,\n",
    "            labels=val_labels,\n",
    "            images=val_images,\n",
    "            n=i+i_multiplier)\n",
    "  plt.subplot(num_rows, 2*num_cols, 2*i+2)\n",
    "  plot_pred_conf(prediction_probabilities=predictions,\n",
    "                 labels=val_labels,\n",
    "                 n=i+i_multiplier)\n",
    "plt.tight_layout(h_pad=1.0)\n",
    "plt.show()"
   ]
  },
  {
   "cell_type": "code",
   "execution_count": null,
   "metadata": {
    "colab": {},
    "colab_type": "code",
    "id": "dfvNmmObTGd2"
   },
   "outputs": [],
   "source": [
    "# Create a function to save a model\n",
    "def save_model(model, suffix=None):\n",
    "  '''\n",
    "  Saves a given model in a models directory and appends a suffix (string).\n",
    "  '''\n",
    "  # Create a model directory pathname with current time\n",
    "  modeldir = os.path.join('drive/My Drive/Dog Vision/models',\n",
    "                          datetime.datetime.now().strftime('%Y%m%d-%H%M%s'))\n",
    "  model_path = modeldir + '-' + suffix + '.h5' # save format of model\n",
    "  print(f'Saving model to: {model_path}...')\n",
    "  model.save(model_path)\n",
    "  return model_path"
   ]
  },
  {
   "cell_type": "code",
   "execution_count": null,
   "metadata": {
    "colab": {},
    "colab_type": "code",
    "id": "vS6NtGi4UNu_"
   },
   "outputs": [],
   "source": [
    "# Create a function to load a trained model\n",
    "def load_model(model_path):\n",
    "  '''\n",
    "  Loads a saved model from a specified path.\n",
    "  '''\n",
    "  print(f'Loading saved model from: {model_path}')\n",
    "  model = tf.keras.models.load_model(model_path, \n",
    "                                     custom_objects={'KerasLayer':hub.KerasLayer})\n",
    "  return model"
   ]
  },
  {
   "cell_type": "markdown",
   "metadata": {
    "colab_type": "text",
    "id": "6fp886pMU2jv"
   },
   "source": [
    "Now we've got functions to save and load a trained model, let's make sure they work!"
   ]
  },
  {
   "cell_type": "code",
   "execution_count": null,
   "metadata": {
    "colab": {
     "base_uri": "https://localhost:8080/",
     "height": 50
    },
    "colab_type": "code",
    "id": "8yFEAonSU1ij",
    "outputId": "daaa2aa6-fc0f-4682-aa85-b47c03d4afa9"
   },
   "outputs": [],
   "source": [
    "# Save our model trained on 1000 images\n",
    "save_model(model, suffix='1000-images-michael')"
   ]
  },
  {
   "cell_type": "markdown",
   "metadata": {
    "colab_type": "text",
    "id": "AAF328oYwxia"
   },
   "source": [
    "## Training a big dog model (on the full data)"
   ]
  },
  {
   "cell_type": "code",
   "execution_count": null,
   "metadata": {
    "colab": {
     "base_uri": "https://localhost:8080/",
     "height": 34
    },
    "colab_type": "code",
    "id": "3hMtsLqwzKvQ",
    "outputId": "7559b89f-542f-4703-dbea-8fd0dabaecbb"
   },
   "outputs": [],
   "source": [
    "len(X), len(y)"
   ]
  },
  {
   "cell_type": "code",
   "execution_count": null,
   "metadata": {
    "colab": {
     "base_uri": "https://localhost:8080/",
     "height": 34
    },
    "colab_type": "code",
    "id": "hnx9634AzTgx",
    "outputId": "19f413ea-a842-4227-c866-10163ed760b7"
   },
   "outputs": [],
   "source": [
    "# Create a data batch with the full data set\n",
    "full_data = create_data_batches(X, y)"
   ]
  },
  {
   "cell_type": "code",
   "execution_count": null,
   "metadata": {
    "colab": {
     "base_uri": "https://localhost:8080/",
     "height": 34
    },
    "colab_type": "code",
    "id": "uAXSw1Puzxic",
    "outputId": "f276235d-a585-489d-f059-ac35d2179ffd"
   },
   "outputs": [],
   "source": [
    "full_data"
   ]
  },
  {
   "cell_type": "code",
   "execution_count": null,
   "metadata": {
    "colab": {
     "base_uri": "https://localhost:8080/",
     "height": 34
    },
    "colab_type": "code",
    "id": "5-4plHRdzypZ",
    "outputId": "81716ae3-2029-4736-c354-a6c78e9713a4"
   },
   "outputs": [],
   "source": [
    "# Create a model for full model\n",
    "full_model = create_model()"
   ]
  },
  {
   "cell_type": "code",
   "execution_count": null,
   "metadata": {
    "colab": {},
    "colab_type": "code",
    "id": "vXC2Ls1u0LS7"
   },
   "outputs": [],
   "source": [
    "# Create full model callbacks\n",
    "full_model_tensorboard = create_tensorboard_callback()\n",
    "# No validation set when training on all the data, so we can't monitor validation accuracy\n",
    "full_model_early_stopping = tf.keras.callbacks.EarlyStopping(monitor='accuracy',\n",
    "                                                             patience=3)"
   ]
  },
  {
   "cell_type": "code",
   "execution_count": null,
   "metadata": {
    "colab": {
     "base_uri": "https://localhost:8080/",
     "height": 622
    },
    "colab_type": "code",
    "id": "AQXv05vl0yhy",
    "outputId": "6c94542a-6a3b-43f8-9d96-e94da74b2497"
   },
   "outputs": [],
   "source": [
    "# Fit the full model to the full data\n",
    "full_model.fit(x=full_data,\n",
    "               epochs=NUM_EPOCHS,\n",
    "               callbacks=[full_model_tensorboard, full_model_early_stopping])"
   ]
  },
  {
   "cell_type": "code",
   "execution_count": null,
   "metadata": {
    "colab": {
     "base_uri": "https://localhost:8080/",
     "height": 50
    },
    "colab_type": "code",
    "id": "Ly328ZKn1hEm",
    "outputId": "5cccb1f3-c70d-4ece-a3b0-2f3334d38bf5"
   },
   "outputs": [],
   "source": [
    "save_model(full_model, suffix='full-image-set-mobilenetv2-Adam')"
   ]
  },
  {
   "cell_type": "markdown",
   "metadata": {
    "colab_type": "text",
    "id": "A8x6DNyIQoK0"
   },
   "source": [
    "## Making predictions on the test dataset\n",
    "To make predictions on the test data, we'll:\n",
    "* Get the test image filenames. \n",
    "* Convert the filenames into test data batches using `create_data_batches()` and setting the `test_data` parameter to `True` (since the test data doesn't have labels). \n",
    "* Make a predictions array by passing the test batches to the `predict()` method called on our model. "
   ]
  },
  {
   "cell_type": "code",
   "execution_count": null,
   "metadata": {
    "colab": {
     "base_uri": "https://localhost:8080/",
     "height": 185
    },
    "colab_type": "code",
    "id": "p-O5KnWGRSii",
    "outputId": "19115e6b-1575-4d25-a416-9ff80a3ce00e"
   },
   "outputs": [],
   "source": [
    "# Load test image filenames\n",
    "test_path = '/Users/School/Desktop/VSC Projects/AI Projects/'\n",
    "test_filenames = [test_path + fname for fname in os.listdir(test_path)]\n",
    "test_filenames[:10]"
   ]
  },
  {
   "cell_type": "code",
   "execution_count": null,
   "metadata": {
    "colab": {
     "base_uri": "https://localhost:8080/",
     "height": 34
    },
    "colab_type": "code",
    "id": "JrTG29pWS4od",
    "outputId": "b3a08ce0-ce5c-45a7-fce5-3bc7244363c7"
   },
   "outputs": [],
   "source": [
    "len(test_filenames)"
   ]
  },
  {
   "cell_type": "code",
   "execution_count": null,
   "metadata": {
    "colab": {
     "base_uri": "https://localhost:8080/",
     "height": 34
    },
    "colab_type": "code",
    "id": "MgoO1plnTBrU",
    "outputId": "c7af78c8-b5c6-4485-d785-c6b55037f4ed"
   },
   "outputs": [],
   "source": [
    "# Create test data batch\n",
    "test_data = create_data_batches(test_filenames, test_data=True)"
   ]
  },
  {
   "cell_type": "code",
   "execution_count": null,
   "metadata": {
    "colab": {
     "base_uri": "https://localhost:8080/",
     "height": 34
    },
    "colab_type": "code",
    "id": "VMZM9Q1aTLOu",
    "outputId": "cde8b432-a0e4-41d2-d92a-251179e424bf"
   },
   "outputs": [],
   "source": [
    "test_data"
   ]
  },
  {
   "cell_type": "code",
   "execution_count": null,
   "metadata": {
    "colab": {
     "base_uri": "https://localhost:8080/",
     "height": 358
    },
    "colab_type": "code",
    "id": "22BvGXzkTcUq",
    "outputId": "2004f314-8812-4a41-847e-2f9f63b66087"
   },
   "outputs": [],
   "source": [
    "# Make predictions on test data batch using the loaded full model\n",
    "test_predictions = loaded_full_model.predict(test_data,\n",
    "                                             verbose=1)"
   ]
  },
  {
   "cell_type": "code",
   "execution_count": null,
   "metadata": {
    "colab": {},
    "colab_type": "code",
    "id": "akUKy9qHYjsa"
   },
   "outputs": [],
   "source": [
    "# Load predictions (NumPy array) from csv file\n",
    "test_predictions = np.loadtxt('/Users/School/Desktop/VSC Projects/AI Projects/preds_array.csv', delimiter=',')"
   ]
  },
  {
   "cell_type": "code",
   "execution_count": null,
   "metadata": {
    "colab": {
     "base_uri": "https://localhost:8080/",
     "height": 235
    },
    "colab_type": "code",
    "id": "dePnf-U4Zlul",
    "outputId": "2d4b551b-8936-41b9-e440-6373f4f59c45"
   },
   "outputs": [],
   "source": [
    "test_predictions[:10]"
   ]
  },
  {
   "cell_type": "code",
   "execution_count": null,
   "metadata": {
    "colab": {
     "base_uri": "https://localhost:8080/",
     "height": 34
    },
    "colab_type": "code",
    "id": "xcDvgX_MZo_z",
    "outputId": "09f9593e-efc8-4965-f2ef-9e56f717e879"
   },
   "outputs": [],
   "source": [
    "test_predictions.shape"
   ]
  },
  {
   "cell_type": "markdown",
   "metadata": {
    "colab_type": "text",
    "id": "LsXDfUi1ZsSM"
   },
   "source": [
    "## Preparing test dataset predictions for Kaggle\n",
    "\n",
    "To get the data in this format, we'll:\n",
    "* Create a pandas DataFrame with an ID column as well as a column for each dog breed. \n",
    "* Add data to the ID column by extracting the test image ID's from their filepaths.\n",
    "* Add data (the prediction probabilites) to each of the dog breed columns.\n",
    "* Export the DataFrame as a CSV to submit it to Kaggle."
   ]
  },
  {
   "cell_type": "code",
   "execution_count": null,
   "metadata": {
    "colab": {
     "base_uri": "https://localhost:8080/",
     "height": 113
    },
    "colab_type": "code",
    "id": "-t7uvkpCbhyd",
    "outputId": "9fa99bbe-916e-42cf-cac9-a02c120564df"
   },
   "outputs": [],
   "source": [
    "# Create a pandas DataFrame with empty columns\n",
    "preds_df = pd.DataFrame(columns=['id'] + list(unique_breeds))\n",
    "preds_df.head()"
   ]
  },
  {
   "cell_type": "code",
   "execution_count": null,
   "metadata": {
    "colab": {},
    "colab_type": "code",
    "id": "VgDXpWXBb1cd"
   },
   "outputs": [],
   "source": [
    "# Append test image ID's to predictions DataFrame\n",
    "test_ids = [os.path.splitext(path)[0] for path in os.listdir(test_path)]\n",
    "preds_df['id'] = test_ids"
   ]
  },
  {
   "cell_type": "code",
   "execution_count": null,
   "metadata": {
    "colab": {
     "base_uri": "https://localhost:8080/",
     "height": 261
    },
    "colab_type": "code",
    "id": "vHrphYoUb9Mp",
    "outputId": "7ee7b5ba-a0d7-412d-e246-d9c2d6b486fb"
   },
   "outputs": [],
   "source": [
    "preds_df.head()"
   ]
  },
  {
   "cell_type": "code",
   "execution_count": null,
   "metadata": {
    "colab": {
     "base_uri": "https://localhost:8080/",
     "height": 345
    },
    "colab_type": "code",
    "id": "VySMlzgpcTKB",
    "outputId": "d2470059-9efe-4c46-f957-3f8e24e8d63d"
   },
   "outputs": [],
   "source": [
    "# Add the prediction probabilities to each dog breed column\n",
    "preds_df[list(unique_breeds)] = test_predictions\n",
    "preds_df.head()"
   ]
  },
  {
   "cell_type": "markdown",
   "metadata": {
    "colab_type": "text",
    "id": "z2H7AjWOdU-x"
   },
   "source": [
    "## Making predictions on custom images\n",
    "\n",
    "To make predictions on custom images, we'll:\n",
    "* Get the filepaths of our own images.\n",
    "* Turn the filepaths into data batches using `create_data_batches()`. And since our custom images won't have labels, we set the `test_data` parameter to `True`.\n",
    "* Pass the custom image data batch to our model's `predict()` method.\n",
    "* Convert the prediction output probabilities to predictions labels.\n",
    "* Compare the predicted labels to the custom images."
   ]
  },
  {
   "cell_type": "code",
   "execution_count": null,
   "metadata": {
    "colab": {},
    "colab_type": "code",
    "id": "eXvUUXpKhVgl"
   },
   "outputs": [],
   "source": [
    "# Get custom image filepaths\n",
    "custom_path = '/Users/School/Desktop/VSC Projects/AI Projects/labels.csv/my-dog-photos/'\n",
    "custom_image_paths = [custom_path + fname for fname in os.listdir(custom_path)]"
   ]
  },
  {
   "cell_type": "code",
   "execution_count": null,
   "metadata": {
    "colab": {
     "base_uri": "https://localhost:8080/",
     "height": 67
    },
    "colab_type": "code",
    "id": "gczvk4xshlG1",
    "outputId": "66784ca8-6b77-474a-8f2d-71d766014937"
   },
   "outputs": [],
   "source": [
    "custom_image_paths"
   ]
  },
  {
   "cell_type": "code",
   "execution_count": null,
   "metadata": {
    "colab": {
     "base_uri": "https://localhost:8080/",
     "height": 50
    },
    "colab_type": "code",
    "id": "Cnl1dNPHh0-E",
    "outputId": "a8ddcf3f-005b-40e9-cb00-6b6d1f4f7c45"
   },
   "outputs": [],
   "source": [
    "# Turn custom images into batch datasets \n",
    "custom_data = create_data_batches(custom_image_paths, test_data=True)\n",
    "custom_data"
   ]
  },
  {
   "cell_type": "code",
   "execution_count": null,
   "metadata": {
    "colab": {},
    "colab_type": "code",
    "id": "m8PloJmQiJm1"
   },
   "outputs": [],
   "source": [
    "# Make predictions on the custom data\n",
    "custom_preds = loaded_full_model.predict(custom_data)"
   ]
  },
  {
   "cell_type": "code",
   "execution_count": null,
   "metadata": {
    "colab": {
     "base_uri": "https://localhost:8080/",
     "height": 34
    },
    "colab_type": "code",
    "id": "JHtl8NXOiSk9",
    "outputId": "63e039c7-9613-4fe1-8081-6d6a808767f6"
   },
   "outputs": [],
   "source": [
    "custom_preds.shape"
   ]
  },
  {
   "cell_type": "code",
   "execution_count": null,
   "metadata": {
    "colab": {
     "base_uri": "https://localhost:8080/",
     "height": 34
    },
    "colab_type": "code",
    "id": "4drlCEFRiToM",
    "outputId": "506c8177-9b81-44bd-ca29-987901a7b7f1"
   },
   "outputs": [],
   "source": [
    "# Get custom image prediction labels\n",
    "custom_pred_labels = [get_pred_label(custom_preds[i]) for i in range(len(custom_preds))]\n",
    "custom_pred_labels"
   ]
  },
  {
   "cell_type": "code",
   "execution_count": null,
   "metadata": {
    "colab": {},
    "colab_type": "code",
    "id": "ZIj9wrxHikaZ"
   },
   "outputs": [],
   "source": [
    "# Get custom images (our unbatchify() function won't work since there aren't labels... maybe we could fix this later)\n",
    "custom_images = []\n",
    "# Loop through unbatched data\n",
    "for image in custom_data.unbatch().as_numpy_iterator():\n",
    "  custom_images.append(image)"
   ]
  },
  {
   "cell_type": "code",
   "execution_count": null,
   "metadata": {
    "colab": {
     "base_uri": "https://localhost:8080/",
     "height": 215
    },
    "colab_type": "code",
    "id": "dNFXKolki7wS",
    "outputId": "39b891c1-e6ef-47fe-bfa4-3c55527b85e5"
   },
   "outputs": [],
   "source": [
    "# Check custom image predictions\n",
    "plt.figure(figsize=(10, 10))\n",
    "for i, image in enumerate(custom_images):\n",
    "  plt.subplot(1, 3, i+1)\n",
    "  plt.xticks([])\n",
    "  plt.yticks([])\n",
    "  plt.title(custom_pred_labels[i])\n",
    "  plt.imshow(image)"
   ]
  }
 ],
 "metadata": {
  "accelerator": "GPU",
  "colab": {
   "authorship_tag": "ABX9TyOtwEXQrCwL8a0oxNQps4lg",
   "include_colab_link": true,
   "mount_file_id": "1EXe7X6e1Pnd0ItIQnq65_R-n39qiE1AX",
   "name": "end-to-end-dog-vision-video.ipynb",
   "provenance": []
  },
  "kernelspec": {
   "display_name": "Python 3 (ipykernel)",
   "language": "python",
   "name": "python3"
  },
  "language_info": {
   "codemirror_mode": {
    "name": "ipython",
    "version": 3
   },
   "file_extension": ".py",
   "mimetype": "text/x-python",
   "name": "python",
   "nbconvert_exporter": "python",
   "pygments_lexer": "ipython3",
   "version": "3.9.17"
  }
 },
 "nbformat": 4,
 "nbformat_minor": 1
}
